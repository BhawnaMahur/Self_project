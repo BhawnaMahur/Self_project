{
  "nbformat": 4,
  "nbformat_minor": 0,
  "metadata": {
    "colab": {
      "provenance": []
    },
    "kernelspec": {
      "name": "python3",
      "display_name": "Python 3"
    },
    "language_info": {
      "name": "python"
    }
  },
  "cells": [
    {
      "cell_type": "code",
      "execution_count": 11,
      "metadata": {
        "id": "1-_eYukq5mtH"
      },
      "outputs": [],
      "source": [
        "import numpy as np\n",
        "import pandas as pd\n",
        "import matplotlib.pyplot as plt\n",
        "import seaborn as sb\n",
        "\n",
        "import tensorflow as tf\n",
        "from tensorflow import keras\n",
        "from keras import layers\n",
        "\n",
        "import warnings\n",
        "warnings.filterwarnings('ignore')"
      ]
    },
    {
      "cell_type": "code",
      "source": [
        "df = pd.read_csv('auto-mpg.csv')\n",
        "df.head()"
      ],
      "metadata": {
        "colab": {
          "base_uri": "https://localhost:8080/",
          "height": 206
        },
        "id": "u68M8E2HF8I-",
        "outputId": "0b6ad20b-49d1-4d1b-84f3-115d08e3f17e"
      },
      "execution_count": 12,
      "outputs": [
        {
          "output_type": "execute_result",
          "data": {
            "text/plain": [
              "    mpg  cylinders  displacement horsepower  weight  acceleration  model year  \\\n",
              "0  18.0          8         307.0        130    3504          12.0          70   \n",
              "1  15.0          8         350.0        165    3693          11.5          70   \n",
              "2  18.0          8         318.0        150    3436          11.0          70   \n",
              "3  16.0          8         304.0        150    3433          12.0          70   \n",
              "4  17.0          8         302.0        140    3449          10.5          70   \n",
              "\n",
              "   origin                   car name  \n",
              "0       1  chevrolet chevelle malibu  \n",
              "1       1          buick skylark 320  \n",
              "2       1         plymouth satellite  \n",
              "3       1              amc rebel sst  \n",
              "4       1                ford torino  "
            ],
            "text/html": [
              "\n",
              "\n",
              "  <div id=\"df-d7fdb018-798f-4610-b4d2-8d0f8a1cb347\">\n",
              "    <div class=\"colab-df-container\">\n",
              "      <div>\n",
              "<style scoped>\n",
              "    .dataframe tbody tr th:only-of-type {\n",
              "        vertical-align: middle;\n",
              "    }\n",
              "\n",
              "    .dataframe tbody tr th {\n",
              "        vertical-align: top;\n",
              "    }\n",
              "\n",
              "    .dataframe thead th {\n",
              "        text-align: right;\n",
              "    }\n",
              "</style>\n",
              "<table border=\"1\" class=\"dataframe\">\n",
              "  <thead>\n",
              "    <tr style=\"text-align: right;\">\n",
              "      <th></th>\n",
              "      <th>mpg</th>\n",
              "      <th>cylinders</th>\n",
              "      <th>displacement</th>\n",
              "      <th>horsepower</th>\n",
              "      <th>weight</th>\n",
              "      <th>acceleration</th>\n",
              "      <th>model year</th>\n",
              "      <th>origin</th>\n",
              "      <th>car name</th>\n",
              "    </tr>\n",
              "  </thead>\n",
              "  <tbody>\n",
              "    <tr>\n",
              "      <th>0</th>\n",
              "      <td>18.0</td>\n",
              "      <td>8</td>\n",
              "      <td>307.0</td>\n",
              "      <td>130</td>\n",
              "      <td>3504</td>\n",
              "      <td>12.0</td>\n",
              "      <td>70</td>\n",
              "      <td>1</td>\n",
              "      <td>chevrolet chevelle malibu</td>\n",
              "    </tr>\n",
              "    <tr>\n",
              "      <th>1</th>\n",
              "      <td>15.0</td>\n",
              "      <td>8</td>\n",
              "      <td>350.0</td>\n",
              "      <td>165</td>\n",
              "      <td>3693</td>\n",
              "      <td>11.5</td>\n",
              "      <td>70</td>\n",
              "      <td>1</td>\n",
              "      <td>buick skylark 320</td>\n",
              "    </tr>\n",
              "    <tr>\n",
              "      <th>2</th>\n",
              "      <td>18.0</td>\n",
              "      <td>8</td>\n",
              "      <td>318.0</td>\n",
              "      <td>150</td>\n",
              "      <td>3436</td>\n",
              "      <td>11.0</td>\n",
              "      <td>70</td>\n",
              "      <td>1</td>\n",
              "      <td>plymouth satellite</td>\n",
              "    </tr>\n",
              "    <tr>\n",
              "      <th>3</th>\n",
              "      <td>16.0</td>\n",
              "      <td>8</td>\n",
              "      <td>304.0</td>\n",
              "      <td>150</td>\n",
              "      <td>3433</td>\n",
              "      <td>12.0</td>\n",
              "      <td>70</td>\n",
              "      <td>1</td>\n",
              "      <td>amc rebel sst</td>\n",
              "    </tr>\n",
              "    <tr>\n",
              "      <th>4</th>\n",
              "      <td>17.0</td>\n",
              "      <td>8</td>\n",
              "      <td>302.0</td>\n",
              "      <td>140</td>\n",
              "      <td>3449</td>\n",
              "      <td>10.5</td>\n",
              "      <td>70</td>\n",
              "      <td>1</td>\n",
              "      <td>ford torino</td>\n",
              "    </tr>\n",
              "  </tbody>\n",
              "</table>\n",
              "</div>\n",
              "      <button class=\"colab-df-convert\" onclick=\"convertToInteractive('df-d7fdb018-798f-4610-b4d2-8d0f8a1cb347')\"\n",
              "              title=\"Convert this dataframe to an interactive table.\"\n",
              "              style=\"display:none;\">\n",
              "\n",
              "  <svg xmlns=\"http://www.w3.org/2000/svg\" height=\"24px\"viewBox=\"0 0 24 24\"\n",
              "       width=\"24px\">\n",
              "    <path d=\"M0 0h24v24H0V0z\" fill=\"none\"/>\n",
              "    <path d=\"M18.56 5.44l.94 2.06.94-2.06 2.06-.94-2.06-.94-.94-2.06-.94 2.06-2.06.94zm-11 1L8.5 8.5l.94-2.06 2.06-.94-2.06-.94L8.5 2.5l-.94 2.06-2.06.94zm10 10l.94 2.06.94-2.06 2.06-.94-2.06-.94-.94-2.06-.94 2.06-2.06.94z\"/><path d=\"M17.41 7.96l-1.37-1.37c-.4-.4-.92-.59-1.43-.59-.52 0-1.04.2-1.43.59L10.3 9.45l-7.72 7.72c-.78.78-.78 2.05 0 2.83L4 21.41c.39.39.9.59 1.41.59.51 0 1.02-.2 1.41-.59l7.78-7.78 2.81-2.81c.8-.78.8-2.07 0-2.86zM5.41 20L4 18.59l7.72-7.72 1.47 1.35L5.41 20z\"/>\n",
              "  </svg>\n",
              "      </button>\n",
              "\n",
              "\n",
              "\n",
              "    <div id=\"df-bdbfa912-05b0-4f29-9aa3-829775753093\">\n",
              "      <button class=\"colab-df-quickchart\" onclick=\"quickchart('df-bdbfa912-05b0-4f29-9aa3-829775753093')\"\n",
              "              title=\"Suggest charts.\"\n",
              "              style=\"display:none;\">\n",
              "\n",
              "<svg xmlns=\"http://www.w3.org/2000/svg\" height=\"24px\"viewBox=\"0 0 24 24\"\n",
              "     width=\"24px\">\n",
              "    <g>\n",
              "        <path d=\"M19 3H5c-1.1 0-2 .9-2 2v14c0 1.1.9 2 2 2h14c1.1 0 2-.9 2-2V5c0-1.1-.9-2-2-2zM9 17H7v-7h2v7zm4 0h-2V7h2v10zm4 0h-2v-4h2v4z\"/>\n",
              "    </g>\n",
              "</svg>\n",
              "      </button>\n",
              "    </div>\n",
              "\n",
              "<style>\n",
              "  .colab-df-quickchart {\n",
              "    background-color: #E8F0FE;\n",
              "    border: none;\n",
              "    border-radius: 50%;\n",
              "    cursor: pointer;\n",
              "    display: none;\n",
              "    fill: #1967D2;\n",
              "    height: 32px;\n",
              "    padding: 0 0 0 0;\n",
              "    width: 32px;\n",
              "  }\n",
              "\n",
              "  .colab-df-quickchart:hover {\n",
              "    background-color: #E2EBFA;\n",
              "    box-shadow: 0px 1px 2px rgba(60, 64, 67, 0.3), 0px 1px 3px 1px rgba(60, 64, 67, 0.15);\n",
              "    fill: #174EA6;\n",
              "  }\n",
              "\n",
              "  [theme=dark] .colab-df-quickchart {\n",
              "    background-color: #3B4455;\n",
              "    fill: #D2E3FC;\n",
              "  }\n",
              "\n",
              "  [theme=dark] .colab-df-quickchart:hover {\n",
              "    background-color: #434B5C;\n",
              "    box-shadow: 0px 1px 3px 1px rgba(0, 0, 0, 0.15);\n",
              "    filter: drop-shadow(0px 1px 2px rgba(0, 0, 0, 0.3));\n",
              "    fill: #FFFFFF;\n",
              "  }\n",
              "</style>\n",
              "\n",
              "    <script>\n",
              "      async function quickchart(key) {\n",
              "        const containerElement = document.querySelector('#' + key);\n",
              "        const charts = await google.colab.kernel.invokeFunction(\n",
              "            'suggestCharts', [key], {});\n",
              "      }\n",
              "    </script>\n",
              "\n",
              "      <script>\n",
              "\n",
              "function displayQuickchartButton(domScope) {\n",
              "  let quickchartButtonEl =\n",
              "    domScope.querySelector('#df-bdbfa912-05b0-4f29-9aa3-829775753093 button.colab-df-quickchart');\n",
              "  quickchartButtonEl.style.display =\n",
              "    google.colab.kernel.accessAllowed ? 'block' : 'none';\n",
              "}\n",
              "\n",
              "        displayQuickchartButton(document);\n",
              "      </script>\n",
              "      <style>\n",
              "    .colab-df-container {\n",
              "      display:flex;\n",
              "      flex-wrap:wrap;\n",
              "      gap: 12px;\n",
              "    }\n",
              "\n",
              "    .colab-df-convert {\n",
              "      background-color: #E8F0FE;\n",
              "      border: none;\n",
              "      border-radius: 50%;\n",
              "      cursor: pointer;\n",
              "      display: none;\n",
              "      fill: #1967D2;\n",
              "      height: 32px;\n",
              "      padding: 0 0 0 0;\n",
              "      width: 32px;\n",
              "    }\n",
              "\n",
              "    .colab-df-convert:hover {\n",
              "      background-color: #E2EBFA;\n",
              "      box-shadow: 0px 1px 2px rgba(60, 64, 67, 0.3), 0px 1px 3px 1px rgba(60, 64, 67, 0.15);\n",
              "      fill: #174EA6;\n",
              "    }\n",
              "\n",
              "    [theme=dark] .colab-df-convert {\n",
              "      background-color: #3B4455;\n",
              "      fill: #D2E3FC;\n",
              "    }\n",
              "\n",
              "    [theme=dark] .colab-df-convert:hover {\n",
              "      background-color: #434B5C;\n",
              "      box-shadow: 0px 1px 3px 1px rgba(0, 0, 0, 0.15);\n",
              "      filter: drop-shadow(0px 1px 2px rgba(0, 0, 0, 0.3));\n",
              "      fill: #FFFFFF;\n",
              "    }\n",
              "  </style>\n",
              "\n",
              "      <script>\n",
              "        const buttonEl =\n",
              "          document.querySelector('#df-d7fdb018-798f-4610-b4d2-8d0f8a1cb347 button.colab-df-convert');\n",
              "        buttonEl.style.display =\n",
              "          google.colab.kernel.accessAllowed ? 'block' : 'none';\n",
              "\n",
              "        async function convertToInteractive(key) {\n",
              "          const element = document.querySelector('#df-d7fdb018-798f-4610-b4d2-8d0f8a1cb347');\n",
              "          const dataTable =\n",
              "            await google.colab.kernel.invokeFunction('convertToInteractive',\n",
              "                                                     [key], {});\n",
              "          if (!dataTable) return;\n",
              "\n",
              "          const docLinkHtml = 'Like what you see? Visit the ' +\n",
              "            '<a target=\"_blank\" href=https://colab.research.google.com/notebooks/data_table.ipynb>data table notebook</a>'\n",
              "            + ' to learn more about interactive tables.';\n",
              "          element.innerHTML = '';\n",
              "          dataTable['output_type'] = 'display_data';\n",
              "          await google.colab.output.renderOutput(dataTable, element);\n",
              "          const docLink = document.createElement('div');\n",
              "          docLink.innerHTML = docLinkHtml;\n",
              "          element.appendChild(docLink);\n",
              "        }\n",
              "      </script>\n",
              "    </div>\n",
              "  </div>\n"
            ]
          },
          "metadata": {},
          "execution_count": 12
        }
      ]
    },
    {
      "cell_type": "code",
      "source": [
        "df.shape"
      ],
      "metadata": {
        "colab": {
          "base_uri": "https://localhost:8080/"
        },
        "id": "2g1YP0aEVrVW",
        "outputId": "1a683d19-30eb-448c-d98c-a50996a6f1f9"
      },
      "execution_count": 13,
      "outputs": [
        {
          "output_type": "execute_result",
          "data": {
            "text/plain": [
              "(398, 9)"
            ]
          },
          "metadata": {},
          "execution_count": 13
        }
      ]
    },
    {
      "cell_type": "markdown",
      "source": [
        "##Checking the info of data type"
      ],
      "metadata": {
        "id": "9_YupNV2VwWM"
      }
    },
    {
      "cell_type": "code",
      "source": [
        "df.info()"
      ],
      "metadata": {
        "colab": {
          "base_uri": "https://localhost:8080/"
        },
        "id": "U-Kei_wVV0iz",
        "outputId": "9d219da7-2067-4b19-d2b6-00d0098d048d"
      },
      "execution_count": 14,
      "outputs": [
        {
          "output_type": "stream",
          "name": "stdout",
          "text": [
            "<class 'pandas.core.frame.DataFrame'>\n",
            "RangeIndex: 398 entries, 0 to 397\n",
            "Data columns (total 9 columns):\n",
            " #   Column        Non-Null Count  Dtype  \n",
            "---  ------        --------------  -----  \n",
            " 0   mpg           398 non-null    float64\n",
            " 1   cylinders     398 non-null    int64  \n",
            " 2   displacement  398 non-null    float64\n",
            " 3   horsepower    398 non-null    object \n",
            " 4   weight        398 non-null    int64  \n",
            " 5   acceleration  398 non-null    float64\n",
            " 6   model year    398 non-null    int64  \n",
            " 7   origin        398 non-null    int64  \n",
            " 8   car name      398 non-null    object \n",
            "dtypes: float64(3), int64(4), object(2)\n",
            "memory usage: 28.1+ KB\n"
          ]
        }
      ]
    },
    {
      "cell_type": "code",
      "source": [
        "df.describe()\n"
      ],
      "metadata": {
        "colab": {
          "base_uri": "https://localhost:8080/",
          "height": 300
        },
        "id": "jcZ7CEzrV63r",
        "outputId": "1671002f-737c-49ab-f1ae-3e652a344669"
      },
      "execution_count": 15,
      "outputs": [
        {
          "output_type": "execute_result",
          "data": {
            "text/plain": [
              "              mpg   cylinders  displacement       weight  acceleration  \\\n",
              "count  398.000000  398.000000    398.000000   398.000000    398.000000   \n",
              "mean    23.514573    5.454774    193.425879  2970.424623     15.568090   \n",
              "std      7.815984    1.701004    104.269838   846.841774      2.757689   \n",
              "min      9.000000    3.000000     68.000000  1613.000000      8.000000   \n",
              "25%     17.500000    4.000000    104.250000  2223.750000     13.825000   \n",
              "50%     23.000000    4.000000    148.500000  2803.500000     15.500000   \n",
              "75%     29.000000    8.000000    262.000000  3608.000000     17.175000   \n",
              "max     46.600000    8.000000    455.000000  5140.000000     24.800000   \n",
              "\n",
              "       model year      origin  \n",
              "count  398.000000  398.000000  \n",
              "mean    76.010050    1.572864  \n",
              "std      3.697627    0.802055  \n",
              "min     70.000000    1.000000  \n",
              "25%     73.000000    1.000000  \n",
              "50%     76.000000    1.000000  \n",
              "75%     79.000000    2.000000  \n",
              "max     82.000000    3.000000  "
            ],
            "text/html": [
              "\n",
              "\n",
              "  <div id=\"df-46181b20-c638-4d10-a7ae-1c6a7d813494\">\n",
              "    <div class=\"colab-df-container\">\n",
              "      <div>\n",
              "<style scoped>\n",
              "    .dataframe tbody tr th:only-of-type {\n",
              "        vertical-align: middle;\n",
              "    }\n",
              "\n",
              "    .dataframe tbody tr th {\n",
              "        vertical-align: top;\n",
              "    }\n",
              "\n",
              "    .dataframe thead th {\n",
              "        text-align: right;\n",
              "    }\n",
              "</style>\n",
              "<table border=\"1\" class=\"dataframe\">\n",
              "  <thead>\n",
              "    <tr style=\"text-align: right;\">\n",
              "      <th></th>\n",
              "      <th>mpg</th>\n",
              "      <th>cylinders</th>\n",
              "      <th>displacement</th>\n",
              "      <th>weight</th>\n",
              "      <th>acceleration</th>\n",
              "      <th>model year</th>\n",
              "      <th>origin</th>\n",
              "    </tr>\n",
              "  </thead>\n",
              "  <tbody>\n",
              "    <tr>\n",
              "      <th>count</th>\n",
              "      <td>398.000000</td>\n",
              "      <td>398.000000</td>\n",
              "      <td>398.000000</td>\n",
              "      <td>398.000000</td>\n",
              "      <td>398.000000</td>\n",
              "      <td>398.000000</td>\n",
              "      <td>398.000000</td>\n",
              "    </tr>\n",
              "    <tr>\n",
              "      <th>mean</th>\n",
              "      <td>23.514573</td>\n",
              "      <td>5.454774</td>\n",
              "      <td>193.425879</td>\n",
              "      <td>2970.424623</td>\n",
              "      <td>15.568090</td>\n",
              "      <td>76.010050</td>\n",
              "      <td>1.572864</td>\n",
              "    </tr>\n",
              "    <tr>\n",
              "      <th>std</th>\n",
              "      <td>7.815984</td>\n",
              "      <td>1.701004</td>\n",
              "      <td>104.269838</td>\n",
              "      <td>846.841774</td>\n",
              "      <td>2.757689</td>\n",
              "      <td>3.697627</td>\n",
              "      <td>0.802055</td>\n",
              "    </tr>\n",
              "    <tr>\n",
              "      <th>min</th>\n",
              "      <td>9.000000</td>\n",
              "      <td>3.000000</td>\n",
              "      <td>68.000000</td>\n",
              "      <td>1613.000000</td>\n",
              "      <td>8.000000</td>\n",
              "      <td>70.000000</td>\n",
              "      <td>1.000000</td>\n",
              "    </tr>\n",
              "    <tr>\n",
              "      <th>25%</th>\n",
              "      <td>17.500000</td>\n",
              "      <td>4.000000</td>\n",
              "      <td>104.250000</td>\n",
              "      <td>2223.750000</td>\n",
              "      <td>13.825000</td>\n",
              "      <td>73.000000</td>\n",
              "      <td>1.000000</td>\n",
              "    </tr>\n",
              "    <tr>\n",
              "      <th>50%</th>\n",
              "      <td>23.000000</td>\n",
              "      <td>4.000000</td>\n",
              "      <td>148.500000</td>\n",
              "      <td>2803.500000</td>\n",
              "      <td>15.500000</td>\n",
              "      <td>76.000000</td>\n",
              "      <td>1.000000</td>\n",
              "    </tr>\n",
              "    <tr>\n",
              "      <th>75%</th>\n",
              "      <td>29.000000</td>\n",
              "      <td>8.000000</td>\n",
              "      <td>262.000000</td>\n",
              "      <td>3608.000000</td>\n",
              "      <td>17.175000</td>\n",
              "      <td>79.000000</td>\n",
              "      <td>2.000000</td>\n",
              "    </tr>\n",
              "    <tr>\n",
              "      <th>max</th>\n",
              "      <td>46.600000</td>\n",
              "      <td>8.000000</td>\n",
              "      <td>455.000000</td>\n",
              "      <td>5140.000000</td>\n",
              "      <td>24.800000</td>\n",
              "      <td>82.000000</td>\n",
              "      <td>3.000000</td>\n",
              "    </tr>\n",
              "  </tbody>\n",
              "</table>\n",
              "</div>\n",
              "      <button class=\"colab-df-convert\" onclick=\"convertToInteractive('df-46181b20-c638-4d10-a7ae-1c6a7d813494')\"\n",
              "              title=\"Convert this dataframe to an interactive table.\"\n",
              "              style=\"display:none;\">\n",
              "\n",
              "  <svg xmlns=\"http://www.w3.org/2000/svg\" height=\"24px\"viewBox=\"0 0 24 24\"\n",
              "       width=\"24px\">\n",
              "    <path d=\"M0 0h24v24H0V0z\" fill=\"none\"/>\n",
              "    <path d=\"M18.56 5.44l.94 2.06.94-2.06 2.06-.94-2.06-.94-.94-2.06-.94 2.06-2.06.94zm-11 1L8.5 8.5l.94-2.06 2.06-.94-2.06-.94L8.5 2.5l-.94 2.06-2.06.94zm10 10l.94 2.06.94-2.06 2.06-.94-2.06-.94-.94-2.06-.94 2.06-2.06.94z\"/><path d=\"M17.41 7.96l-1.37-1.37c-.4-.4-.92-.59-1.43-.59-.52 0-1.04.2-1.43.59L10.3 9.45l-7.72 7.72c-.78.78-.78 2.05 0 2.83L4 21.41c.39.39.9.59 1.41.59.51 0 1.02-.2 1.41-.59l7.78-7.78 2.81-2.81c.8-.78.8-2.07 0-2.86zM5.41 20L4 18.59l7.72-7.72 1.47 1.35L5.41 20z\"/>\n",
              "  </svg>\n",
              "      </button>\n",
              "\n",
              "\n",
              "\n",
              "    <div id=\"df-db67ab1d-6276-4621-a438-de54befcaff0\">\n",
              "      <button class=\"colab-df-quickchart\" onclick=\"quickchart('df-db67ab1d-6276-4621-a438-de54befcaff0')\"\n",
              "              title=\"Suggest charts.\"\n",
              "              style=\"display:none;\">\n",
              "\n",
              "<svg xmlns=\"http://www.w3.org/2000/svg\" height=\"24px\"viewBox=\"0 0 24 24\"\n",
              "     width=\"24px\">\n",
              "    <g>\n",
              "        <path d=\"M19 3H5c-1.1 0-2 .9-2 2v14c0 1.1.9 2 2 2h14c1.1 0 2-.9 2-2V5c0-1.1-.9-2-2-2zM9 17H7v-7h2v7zm4 0h-2V7h2v10zm4 0h-2v-4h2v4z\"/>\n",
              "    </g>\n",
              "</svg>\n",
              "      </button>\n",
              "    </div>\n",
              "\n",
              "<style>\n",
              "  .colab-df-quickchart {\n",
              "    background-color: #E8F0FE;\n",
              "    border: none;\n",
              "    border-radius: 50%;\n",
              "    cursor: pointer;\n",
              "    display: none;\n",
              "    fill: #1967D2;\n",
              "    height: 32px;\n",
              "    padding: 0 0 0 0;\n",
              "    width: 32px;\n",
              "  }\n",
              "\n",
              "  .colab-df-quickchart:hover {\n",
              "    background-color: #E2EBFA;\n",
              "    box-shadow: 0px 1px 2px rgba(60, 64, 67, 0.3), 0px 1px 3px 1px rgba(60, 64, 67, 0.15);\n",
              "    fill: #174EA6;\n",
              "  }\n",
              "\n",
              "  [theme=dark] .colab-df-quickchart {\n",
              "    background-color: #3B4455;\n",
              "    fill: #D2E3FC;\n",
              "  }\n",
              "\n",
              "  [theme=dark] .colab-df-quickchart:hover {\n",
              "    background-color: #434B5C;\n",
              "    box-shadow: 0px 1px 3px 1px rgba(0, 0, 0, 0.15);\n",
              "    filter: drop-shadow(0px 1px 2px rgba(0, 0, 0, 0.3));\n",
              "    fill: #FFFFFF;\n",
              "  }\n",
              "</style>\n",
              "\n",
              "    <script>\n",
              "      async function quickchart(key) {\n",
              "        const containerElement = document.querySelector('#' + key);\n",
              "        const charts = await google.colab.kernel.invokeFunction(\n",
              "            'suggestCharts', [key], {});\n",
              "      }\n",
              "    </script>\n",
              "\n",
              "      <script>\n",
              "\n",
              "function displayQuickchartButton(domScope) {\n",
              "  let quickchartButtonEl =\n",
              "    domScope.querySelector('#df-db67ab1d-6276-4621-a438-de54befcaff0 button.colab-df-quickchart');\n",
              "  quickchartButtonEl.style.display =\n",
              "    google.colab.kernel.accessAllowed ? 'block' : 'none';\n",
              "}\n",
              "\n",
              "        displayQuickchartButton(document);\n",
              "      </script>\n",
              "      <style>\n",
              "    .colab-df-container {\n",
              "      display:flex;\n",
              "      flex-wrap:wrap;\n",
              "      gap: 12px;\n",
              "    }\n",
              "\n",
              "    .colab-df-convert {\n",
              "      background-color: #E8F0FE;\n",
              "      border: none;\n",
              "      border-radius: 50%;\n",
              "      cursor: pointer;\n",
              "      display: none;\n",
              "      fill: #1967D2;\n",
              "      height: 32px;\n",
              "      padding: 0 0 0 0;\n",
              "      width: 32px;\n",
              "    }\n",
              "\n",
              "    .colab-df-convert:hover {\n",
              "      background-color: #E2EBFA;\n",
              "      box-shadow: 0px 1px 2px rgba(60, 64, 67, 0.3), 0px 1px 3px 1px rgba(60, 64, 67, 0.15);\n",
              "      fill: #174EA6;\n",
              "    }\n",
              "\n",
              "    [theme=dark] .colab-df-convert {\n",
              "      background-color: #3B4455;\n",
              "      fill: #D2E3FC;\n",
              "    }\n",
              "\n",
              "    [theme=dark] .colab-df-convert:hover {\n",
              "      background-color: #434B5C;\n",
              "      box-shadow: 0px 1px 3px 1px rgba(0, 0, 0, 0.15);\n",
              "      filter: drop-shadow(0px 1px 2px rgba(0, 0, 0, 0.3));\n",
              "      fill: #FFFFFF;\n",
              "    }\n",
              "  </style>\n",
              "\n",
              "      <script>\n",
              "        const buttonEl =\n",
              "          document.querySelector('#df-46181b20-c638-4d10-a7ae-1c6a7d813494 button.colab-df-convert');\n",
              "        buttonEl.style.display =\n",
              "          google.colab.kernel.accessAllowed ? 'block' : 'none';\n",
              "\n",
              "        async function convertToInteractive(key) {\n",
              "          const element = document.querySelector('#df-46181b20-c638-4d10-a7ae-1c6a7d813494');\n",
              "          const dataTable =\n",
              "            await google.colab.kernel.invokeFunction('convertToInteractive',\n",
              "                                                     [key], {});\n",
              "          if (!dataTable) return;\n",
              "\n",
              "          const docLinkHtml = 'Like what you see? Visit the ' +\n",
              "            '<a target=\"_blank\" href=https://colab.research.google.com/notebooks/data_table.ipynb>data table notebook</a>'\n",
              "            + ' to learn more about interactive tables.';\n",
              "          element.innerHTML = '';\n",
              "          dataTable['output_type'] = 'display_data';\n",
              "          await google.colab.output.renderOutput(dataTable, element);\n",
              "          const docLink = document.createElement('div');\n",
              "          docLink.innerHTML = docLinkHtml;\n",
              "          element.appendChild(docLink);\n",
              "        }\n",
              "      </script>\n",
              "    </div>\n",
              "  </div>\n"
            ]
          },
          "metadata": {},
          "execution_count": 15
        }
      ]
    },
    {
      "cell_type": "code",
      "source": [
        "df['horsepower'].unique()\n"
      ],
      "metadata": {
        "colab": {
          "base_uri": "https://localhost:8080/"
        },
        "id": "NHRkYQNBZzlG",
        "outputId": "b262964a-eef2-44d0-e579-0f3ba48fc8b5"
      },
      "execution_count": 16,
      "outputs": [
        {
          "output_type": "execute_result",
          "data": {
            "text/plain": [
              "array(['130', '165', '150', '140', '198', '220', '215', '225', '190',\n",
              "       '170', '160', '95', '97', '85', '88', '46', '87', '90', '113',\n",
              "       '200', '210', '193', '?', '100', '105', '175', '153', '180', '110',\n",
              "       '72', '86', '70', '76', '65', '69', '60', '80', '54', '208', '155',\n",
              "       '112', '92', '145', '137', '158', '167', '94', '107', '230', '49',\n",
              "       '75', '91', '122', '67', '83', '78', '52', '61', '93', '148',\n",
              "       '129', '96', '71', '98', '115', '53', '81', '79', '120', '152',\n",
              "       '102', '108', '68', '58', '149', '89', '63', '48', '66', '139',\n",
              "       '103', '125', '133', '138', '135', '142', '77', '62', '132', '84',\n",
              "       '64', '74', '116', '82'], dtype=object)"
            ]
          },
          "metadata": {},
          "execution_count": 16
        }
      ]
    },
    {
      "cell_type": "code",
      "source": [
        "print(df.shape)\n",
        "df = df[df['horsepower'] != '?']\n",
        "print(df.shape)\n"
      ],
      "metadata": {
        "colab": {
          "base_uri": "https://localhost:8080/"
        },
        "id": "Na0zh7rNaPBZ",
        "outputId": "767f9bdf-486f-4786-db25-827e04e2bcae"
      },
      "execution_count": 17,
      "outputs": [
        {
          "output_type": "stream",
          "name": "stdout",
          "text": [
            "(398, 9)\n",
            "(392, 9)\n"
          ]
        }
      ]
    },
    {
      "cell_type": "code",
      "source": [
        "df['horsepower'] = df['horsepower'].astype(int)\n",
        "df.isnull().sum()\n"
      ],
      "metadata": {
        "colab": {
          "base_uri": "https://localhost:8080/"
        },
        "id": "DPlWWi9qakQN",
        "outputId": "3b1ff404-976b-4ed8-a5ba-ad5d15dd39f0"
      },
      "execution_count": 18,
      "outputs": [
        {
          "output_type": "execute_result",
          "data": {
            "text/plain": [
              "mpg             0\n",
              "cylinders       0\n",
              "displacement    0\n",
              "horsepower      0\n",
              "weight          0\n",
              "acceleration    0\n",
              "model year      0\n",
              "origin          0\n",
              "car name        0\n",
              "dtype: int64"
            ]
          },
          "metadata": {},
          "execution_count": 18
        }
      ]
    },
    {
      "cell_type": "code",
      "source": [
        "df.nunique()\n"
      ],
      "metadata": {
        "colab": {
          "base_uri": "https://localhost:8080/"
        },
        "id": "41JtnP4wbFVQ",
        "outputId": "f15ded93-fffa-44a2-dfd2-52e657f0fcbc"
      },
      "execution_count": 19,
      "outputs": [
        {
          "output_type": "execute_result",
          "data": {
            "text/plain": [
              "mpg             127\n",
              "cylinders         5\n",
              "displacement     81\n",
              "horsepower       93\n",
              "weight          346\n",
              "acceleration     95\n",
              "model year       13\n",
              "origin            3\n",
              "car name        301\n",
              "dtype: int64"
            ]
          },
          "metadata": {},
          "execution_count": 19
        }
      ]
    },
    {
      "cell_type": "code",
      "source": [
        "plt.subplots(figsize=(15, 5))\n",
        "for i, col in enumerate(['cylinders', 'origin']):\n",
        "\tplt.subplot(1, 2, i+1)\n",
        "\tx = df.groupby(col).mean()['mpg']\n",
        "\tx.plot.bar()\n",
        "\tplt.xticks(rotation=0)\n",
        "plt.tight_layout()\n",
        "plt.show()\n"
      ],
      "metadata": {
        "colab": {
          "base_uri": "https://localhost:8080/",
          "height": 383
        },
        "id": "G9R4qz30bf39",
        "outputId": "22700b5b-675a-4b06-c173-c579a33c6862"
      },
      "execution_count": 20,
      "outputs": [
        {
          "output_type": "display_data",
          "data": {
            "text/plain": [
              "<Figure size 1500x500 with 2 Axes>"
            ],
            "image/png": "[encoded data removed]"
          },
          "metadata": {}
        }
      ]
    },
    {
      "cell_type": "code",
      "source": [
        "plt.figure(figsize=(8, 8))\n",
        "sb.heatmap(df.corr() > 0.9,\n",
        "\t\tannot=True,\n",
        "\t\tcbar=False)\n",
        "plt.show()\n"
      ],
      "metadata": {
        "colab": {
          "base_uri": "https://localhost:8080/",
          "height": 756
        },
        "id": "40iPxP24fBTF",
        "outputId": "02dc1335-bf0a-47e2-fa70-f942e876f071"
      },
      "execution_count": 21,
      "outputs": [
        {
          "output_type": "display_data",
          "data": {
            "text/plain": [
              "<Figure size 800x800 with 1 Axes>"
            ],
            "image/png": "[encoded data removed]"
          },
          "metadata": {}
        }
      ]
    },
    {
      "cell_type": "code",
      "source": [
        "df.drop('displacement',\n",
        "\t\taxis=1,\n",
        "\t\tinplace=True)\n"
      ],
      "metadata": {
        "id": "L-IydyHZfY_N"
      },
      "execution_count": 22,
      "outputs": []
    },
    {
      "cell_type": "code",
      "source": [
        "from sklearn.model_selection import train_test_split\n",
        "features = df.drop(['mpg', 'car name'], axis=1)\n",
        "target = df['mpg'].values\n",
        "\n",
        "X_train, X_val, \\\n",
        "\tY_train, Y_val = train_test_split(features, target,\n",
        "\t\t\t\t\t\t\t\t\ttest_size=0.2,\n",
        "\t\t\t\t\t\t\t\t\trandom_state=22)\n",
        "X_train.shape, X_val.shape\n"
      ],
      "metadata": {
        "colab": {
          "base_uri": "https://localhost:8080/"
        },
        "id": "fdHqhDKhfexb",
        "outputId": "da6abb6d-ec8b-4b0a-f4ab-305b0a6f8422"
      },
      "execution_count": 23,
      "outputs": [
        {
          "output_type": "execute_result",
          "data": {
            "text/plain": [
              "((313, 6), (79, 6))"
            ]
          },
          "metadata": {},
          "execution_count": 23
        }
      ]
    },
    {
      "cell_type": "code",
      "source": [
        "AUTO = tf.data.experimental.AUTOTUNE\n",
        "\n",
        "train_ds = (\n",
        "\ttf.data.Dataset\n",
        "\t.from_tensor_slices((X_train, Y_train))\n",
        "\t.batch(32)\n",
        "\t.prefetch(AUTO)\n",
        ")\n",
        "\n",
        "val_ds = (\n",
        "\ttf.data.Dataset\n",
        "\t.from_tensor_slices((X_val, Y_val))\n",
        "\t.batch(32)\n",
        "\t.prefetch(AUTO)\n",
        ")\n"
      ],
      "metadata": {
        "id": "WbFXjR9jflji"
      },
      "execution_count": 24,
      "outputs": []
    },
    {
      "cell_type": "code",
      "source": [
        "model = keras.Sequential([\n",
        "\tlayers.Dense(256, activation='relu', input_shape=[6]),\n",
        "\tlayers.BatchNormalization(),\n",
        "\tlayers.Dense(256, activation='relu'),\n",
        "\tlayers.Dropout(0.3),\n",
        "\tlayers.BatchNormalization(),\n",
        "\tlayers.Dense(1, activation='relu')\n",
        "])\n"
      ],
      "metadata": {
        "id": "8mEfr6e1foWL"
      },
      "execution_count": 25,
      "outputs": []
    },
    {
      "cell_type": "code",
      "source": [
        "model.compile(\n",
        "\tloss='mae',\n",
        "\toptimizer='adam',\n",
        "\tmetrics=['mape']\n",
        ")\n"
      ],
      "metadata": {
        "id": "il9P3phegEkk"
      },
      "execution_count": 26,
      "outputs": []
    },
    {
      "cell_type": "markdown",
      "source": [
        "##Model Training"
      ],
      "metadata": {
        "id": "gsGMF-gdgfFH"
      }
    },
    {
      "cell_type": "code",
      "source": [
        "model.summary()\n"
      ],
      "metadata": {
        "colab": {
          "base_uri": "https://localhost:8080/"
        },
        "id": "S1j8RrGvgJZn",
        "outputId": "85505416-47e7-4334-9ff8-d63fbc835862"
      },
      "execution_count": 27,
      "outputs": [
        {
          "output_type": "stream",
          "name": "stdout",
          "text": [
            "Model: \"sequential\"\n",
            "_________________________________________________________________\n",
            " Layer (type)                Output Shape              Param #   \n",
            "=================================================================\n",
            " dense (Dense)               (None, 256)               1792      \n",
            "                                                                 \n",
            " batch_normalization (BatchN  (None, 256)              1024      \n",
            " ormalization)                                                   \n",
            "                                                                 \n",
            " dense_1 (Dense)             (None, 256)               65792     \n",
            "                                                                 \n",
            " dropout (Dropout)           (None, 256)               0         \n",
            "                                                                 \n",
            " batch_normalization_1 (Batc  (None, 256)              1024      \n",
            " hNormalization)                                                 \n",
            "                                                                 \n",
            " dense_2 (Dense)             (None, 1)                 257       \n",
            "                                                                 \n",
            "=================================================================\n",
            "Total params: 69,889\n",
            "Trainable params: 68,865\n",
            "Non-trainable params: 1,024\n",
            "_________________________________________________________________\n"
          ]
        }
      ]
    },
    {
      "cell_type": "code",
      "source": [
        "history = model.fit(train_ds,\n",
        "\t\t\t\t\tepochs=50,\n",
        "\t\t\t\t\tvalidation_data=val_ds)\n"
      ],
      "metadata": {
        "colab": {
          "base_uri": "https://localhost:8080/"
        },
        "id": "zVVVCF0YgVgg",
        "outputId": "7354c598-3b63-4530-aa44-e8cfbbb11938"
      },
      "execution_count": 28,
      "outputs": [
        {
          "output_type": "stream",
          "name": "stdout",
          "text": [
            "Epoch 1/50\n",
            "10/10 [==============================] - 2s 26ms/step - loss: 21.6580 - mape: 92.6387 - val_loss: 22.4190 - val_mape: 100.0000\n",
            "Epoch 2/50\n",
            "10/10 [==============================] - 0s 5ms/step - loss: 18.8652 - mape: 83.0776 - val_loss: 22.4190 - val_mape: 100.0000\n",
            "Epoch 3/50\n",
            "10/10 [==============================] - 0s 4ms/step - loss: 17.1182 - mape: 77.0163 - val_loss: 22.4190 - val_mape: 100.0000\n",
            "Epoch 4/50\n",
            "10/10 [==============================] - 0s 5ms/step - loss: 15.8121 - mape: 72.4899 - val_loss: 22.4190 - val_mape: 100.0000\n",
            "Epoch 5/50\n",
            "10/10 [==============================] - 0s 5ms/step - loss: 14.5016 - mape: 67.9230 - val_loss: 22.4190 - val_mape: 100.0000\n",
            "Epoch 6/50\n",
            "10/10 [==============================] - 0s 6ms/step - loss: 13.2353 - mape: 63.4112 - val_loss: 22.4190 - val_mape: 100.0000\n",
            "Epoch 7/50\n",
            "10/10 [==============================] - 0s 5ms/step - loss: 12.2373 - mape: 59.7656 - val_loss: 22.4190 - val_mape: 100.0000\n",
            "Epoch 8/50\n",
            "10/10 [==============================] - 0s 5ms/step - loss: 11.5270 - mape: 56.9647 - val_loss: 22.3401 - val_mape: 99.7611\n",
            "Epoch 9/50\n",
            "10/10 [==============================] - 0s 6ms/step - loss: 10.8282 - mape: 54.2787 - val_loss: 21.7469 - val_mape: 97.9293\n",
            "Epoch 10/50\n",
            "10/10 [==============================] - 0s 5ms/step - loss: 10.4248 - mape: 52.5005 - val_loss: 19.9154 - val_mape: 92.3633\n",
            "Epoch 11/50\n",
            "10/10 [==============================] - 0s 6ms/step - loss: 9.8896 - mape: 50.3517 - val_loss: 17.1872 - val_mape: 83.6329\n",
            "Epoch 12/50\n",
            "10/10 [==============================] - 0s 5ms/step - loss: 9.5099 - mape: 48.7173 - val_loss: 14.3243 - val_mape: 73.8314\n",
            "Epoch 13/50\n",
            "10/10 [==============================] - 0s 5ms/step - loss: 8.8506 - mape: 45.9442 - val_loss: 12.3667 - val_mape: 66.2489\n",
            "Epoch 14/50\n",
            "10/10 [==============================] - 0s 5ms/step - loss: 8.7061 - mape: 45.3522 - val_loss: 10.7418 - val_mape: 58.5356\n",
            "Epoch 15/50\n",
            "10/10 [==============================] - 0s 5ms/step - loss: 8.2299 - mape: 43.2030 - val_loss: 10.3462 - val_mape: 54.5471\n",
            "Epoch 16/50\n",
            "10/10 [==============================] - 0s 7ms/step - loss: 8.0455 - mape: 42.4822 - val_loss: 12.2338 - val_mape: 60.1575\n",
            "Epoch 17/50\n",
            "10/10 [==============================] - 0s 5ms/step - loss: 7.6864 - mape: 40.7031 - val_loss: 18.6511 - val_mape: 90.0932\n",
            "Epoch 18/50\n",
            "10/10 [==============================] - 0s 5ms/step - loss: 7.2225 - mape: 38.4451 - val_loss: 21.8670 - val_mape: 108.4424\n",
            "Epoch 19/50\n",
            "10/10 [==============================] - 0s 5ms/step - loss: 7.1099 - mape: 37.8922 - val_loss: 21.7194 - val_mape: 107.6355\n",
            "Epoch 20/50\n",
            "10/10 [==============================] - 0s 5ms/step - loss: 6.9012 - mape: 37.3466 - val_loss: 22.2840 - val_mape: 111.0572\n",
            "Epoch 21/50\n",
            "10/10 [==============================] - 0s 6ms/step - loss: 6.7236 - mape: 36.1268 - val_loss: 23.1731 - val_mape: 117.0845\n",
            "Epoch 22/50\n",
            "10/10 [==============================] - 0s 8ms/step - loss: 6.4436 - mape: 34.7560 - val_loss: 22.6515 - val_mape: 114.7968\n",
            "Epoch 23/50\n",
            "10/10 [==============================] - 0s 5ms/step - loss: 6.3154 - mape: 34.1197 - val_loss: 21.1147 - val_mape: 106.1681\n",
            "Epoch 24/50\n",
            "10/10 [==============================] - 0s 7ms/step - loss: 6.1287 - mape: 33.4403 - val_loss: 19.3609 - val_mape: 98.0636\n",
            "Epoch 25/50\n",
            "10/10 [==============================] - 0s 5ms/step - loss: 6.0054 - mape: 32.4412 - val_loss: 19.6204 - val_mape: 100.0610\n",
            "Epoch 26/50\n",
            "10/10 [==============================] - 0s 6ms/step - loss: 5.9874 - mape: 31.7720 - val_loss: 17.7121 - val_mape: 87.5622\n",
            "Epoch 27/50\n",
            "10/10 [==============================] - 0s 5ms/step - loss: 5.8353 - mape: 31.7396 - val_loss: 16.3285 - val_mape: 81.2845\n",
            "Epoch 28/50\n",
            "10/10 [==============================] - 0s 7ms/step - loss: 5.9337 - mape: 31.5800 - val_loss: 13.5450 - val_mape: 66.8826\n",
            "Epoch 29/50\n",
            "10/10 [==============================] - 0s 5ms/step - loss: 5.6107 - mape: 30.6540 - val_loss: 14.4230 - val_mape: 72.8804\n",
            "Epoch 30/50\n",
            "10/10 [==============================] - 0s 5ms/step - loss: 5.6327 - mape: 30.3306 - val_loss: 15.4350 - val_mape: 77.6078\n",
            "Epoch 31/50\n",
            "10/10 [==============================] - 0s 6ms/step - loss: 5.5083 - mape: 29.4630 - val_loss: 15.4670 - val_mape: 80.0625\n",
            "Epoch 32/50\n",
            "10/10 [==============================] - 0s 5ms/step - loss: 5.6862 - mape: 30.4079 - val_loss: 15.3955 - val_mape: 75.7859\n",
            "Epoch 33/50\n",
            "10/10 [==============================] - 0s 5ms/step - loss: 5.6045 - mape: 30.6091 - val_loss: 14.2839 - val_mape: 72.3676\n",
            "Epoch 34/50\n",
            "10/10 [==============================] - 0s 6ms/step - loss: 5.4534 - mape: 29.3506 - val_loss: 12.5145 - val_mape: 63.0317\n",
            "Epoch 35/50\n",
            "10/10 [==============================] - 0s 5ms/step - loss: 5.4109 - mape: 29.0201 - val_loss: 12.2371 - val_mape: 62.4023\n",
            "Epoch 36/50\n",
            "10/10 [==============================] - 0s 5ms/step - loss: 5.2323 - mape: 28.4331 - val_loss: 12.5460 - val_mape: 62.7161\n",
            "Epoch 37/50\n",
            "10/10 [==============================] - 0s 5ms/step - loss: 5.0019 - mape: 27.0410 - val_loss: 14.2432 - val_mape: 75.0798\n",
            "Epoch 38/50\n",
            "10/10 [==============================] - 0s 5ms/step - loss: 4.9989 - mape: 25.9814 - val_loss: 11.7937 - val_mape: 59.8623\n",
            "Epoch 39/50\n",
            "10/10 [==============================] - 0s 5ms/step - loss: 4.7726 - mape: 25.0732 - val_loss: 10.7083 - val_mape: 55.3137\n",
            "Epoch 40/50\n",
            "10/10 [==============================] - 0s 5ms/step - loss: 4.7792 - mape: 24.9730 - val_loss: 7.8524 - val_mape: 42.0278\n",
            "Epoch 41/50\n",
            "10/10 [==============================] - 0s 6ms/step - loss: 4.4347 - mape: 23.5437 - val_loss: 9.1475 - val_mape: 47.8936\n",
            "Epoch 42/50\n",
            "10/10 [==============================] - 0s 5ms/step - loss: 4.5639 - mape: 23.7687 - val_loss: 9.0991 - val_mape: 47.5097\n",
            "Epoch 43/50\n",
            "10/10 [==============================] - 0s 5ms/step - loss: 4.5118 - mape: 23.5381 - val_loss: 9.0813 - val_mape: 47.6544\n",
            "Epoch 44/50\n",
            "10/10 [==============================] - 0s 5ms/step - loss: 4.4818 - mape: 22.9720 - val_loss: 7.8818 - val_mape: 40.9406\n",
            "Epoch 45/50\n",
            "10/10 [==============================] - 0s 5ms/step - loss: 4.3730 - mape: 22.7552 - val_loss: 8.7563 - val_mape: 46.7306\n",
            "Epoch 46/50\n",
            "10/10 [==============================] - 0s 5ms/step - loss: 4.2504 - mape: 22.2157 - val_loss: 6.4330 - val_mape: 34.2346\n",
            "Epoch 47/50\n",
            "10/10 [==============================] - 0s 6ms/step - loss: 4.2560 - mape: 22.0715 - val_loss: 9.6336 - val_mape: 49.9931\n",
            "Epoch 48/50\n",
            "10/10 [==============================] - 0s 7ms/step - loss: 4.0528 - mape: 21.0453 - val_loss: 10.1148 - val_mape: 51.8769\n",
            "Epoch 49/50\n",
            "10/10 [==============================] - 0s 5ms/step - loss: 3.9676 - mape: 20.3920 - val_loss: 13.4199 - val_mape: 68.7192\n",
            "Epoch 50/50\n",
            "10/10 [==============================] - 0s 5ms/step - loss: 3.9297 - mape: 19.5804 - val_loss: 14.1883 - val_mape: 73.3549\n"
          ]
        }
      ]
    },
    {
      "cell_type": "code",
      "source": [
        "history_df = pd.DataFrame(history.history)\n",
        "history_df.head()\n"
      ],
      "metadata": {
        "colab": {
          "base_uri": "https://localhost:8080/",
          "height": 206
        },
        "id": "LEovg6gAgbhw",
        "outputId": "4584a6fb-04db-4b2a-fa58-664235e94e8b"
      },
      "execution_count": 29,
      "outputs": [
        {
          "output_type": "execute_result",
          "data": {
            "text/plain": [
              "        loss       mape   val_loss  val_mape\n",
              "0  21.657984  92.638657  22.418987     100.0\n",
              "1  18.865225  83.077614  22.418987     100.0\n",
              "2  17.118172  77.016304  22.418987     100.0\n",
              "3  15.812071  72.489891  22.418987     100.0\n",
              "4  14.501646  67.923027  22.418987     100.0"
            ],
            "text/html": [
              "\n",
              "\n",
              "  <div id=\"df-7c44081c-e795-4f7d-b42d-de11ea57f560\">\n",
              "    <div class=\"colab-df-container\">\n",
              "      <div>\n",
              "<style scoped>\n",
              "    .dataframe tbody tr th:only-of-type {\n",
              "        vertical-align: middle;\n",
              "    }\n",
              "\n",
              "    .dataframe tbody tr th {\n",
              "        vertical-align: top;\n",
              "    }\n",
              "\n",
              "    .dataframe thead th {\n",
              "        text-align: right;\n",
              "    }\n",
              "</style>\n",
              "<table border=\"1\" class=\"dataframe\">\n",
              "  <thead>\n",
              "    <tr style=\"text-align: right;\">\n",
              "      <th></th>\n",
              "      <th>loss</th>\n",
              "      <th>mape</th>\n",
              "      <th>val_loss</th>\n",
              "      <th>val_mape</th>\n",
              "    </tr>\n",
              "  </thead>\n",
              "  <tbody>\n",
              "    <tr>\n",
              "      <th>0</th>\n",
              "      <td>21.657984</td>\n",
              "      <td>92.638657</td>\n",
              "      <td>22.418987</td>\n",
              "      <td>100.0</td>\n",
              "    </tr>\n",
              "    <tr>\n",
              "      <th>1</th>\n",
              "      <td>18.865225</td>\n",
              "      <td>83.077614</td>\n",
              "      <td>22.418987</td>\n",
              "      <td>100.0</td>\n",
              "    </tr>\n",
              "    <tr>\n",
              "      <th>2</th>\n",
              "      <td>17.118172</td>\n",
              "      <td>77.016304</td>\n",
              "      <td>22.418987</td>\n",
              "      <td>100.0</td>\n",
              "    </tr>\n",
              "    <tr>\n",
              "      <th>3</th>\n",
              "      <td>15.812071</td>\n",
              "      <td>72.489891</td>\n",
              "      <td>22.418987</td>\n",
              "      <td>100.0</td>\n",
              "    </tr>\n",
              "    <tr>\n",
              "      <th>4</th>\n",
              "      <td>14.501646</td>\n",
              "      <td>67.923027</td>\n",
              "      <td>22.418987</td>\n",
              "      <td>100.0</td>\n",
              "    </tr>\n",
              "  </tbody>\n",
              "</table>\n",
              "</div>\n",
              "      <button class=\"colab-df-convert\" onclick=\"convertToInteractive('df-7c44081c-e795-4f7d-b42d-de11ea57f560')\"\n",
              "              title=\"Convert this dataframe to an interactive table.\"\n",
              "              style=\"display:none;\">\n",
              "\n",
              "  <svg xmlns=\"http://www.w3.org/2000/svg\" height=\"24px\"viewBox=\"0 0 24 24\"\n",
              "       width=\"24px\">\n",
              "    <path d=\"M0 0h24v24H0V0z\" fill=\"none\"/>\n",
              "    <path d=\"M18.56 5.44l.94 2.06.94-2.06 2.06-.94-2.06-.94-.94-2.06-.94 2.06-2.06.94zm-11 1L8.5 8.5l.94-2.06 2.06-.94-2.06-.94L8.5 2.5l-.94 2.06-2.06.94zm10 10l.94 2.06.94-2.06 2.06-.94-2.06-.94-.94-2.06-.94 2.06-2.06.94z\"/><path d=\"M17.41 7.96l-1.37-1.37c-.4-.4-.92-.59-1.43-.59-.52 0-1.04.2-1.43.59L10.3 9.45l-7.72 7.72c-.78.78-.78 2.05 0 2.83L4 21.41c.39.39.9.59 1.41.59.51 0 1.02-.2 1.41-.59l7.78-7.78 2.81-2.81c.8-.78.8-2.07 0-2.86zM5.41 20L4 18.59l7.72-7.72 1.47 1.35L5.41 20z\"/>\n",
              "  </svg>\n",
              "      </button>\n",
              "\n",
              "\n",
              "\n",
              "    <div id=\"df-a2090500-83bd-4dbf-96ba-8ce8289b19fa\">\n",
              "      <button class=\"colab-df-quickchart\" onclick=\"quickchart('df-a2090500-83bd-4dbf-96ba-8ce8289b19fa')\"\n",
              "              title=\"Suggest charts.\"\n",
              "              style=\"display:none;\">\n",
              "\n",
              "<svg xmlns=\"http://www.w3.org/2000/svg\" height=\"24px\"viewBox=\"0 0 24 24\"\n",
              "     width=\"24px\">\n",
              "    <g>\n",
              "        <path d=\"M19 3H5c-1.1 0-2 .9-2 2v14c0 1.1.9 2 2 2h14c1.1 0 2-.9 2-2V5c0-1.1-.9-2-2-2zM9 17H7v-7h2v7zm4 0h-2V7h2v10zm4 0h-2v-4h2v4z\"/>\n",
              "    </g>\n",
              "</svg>\n",
              "      </button>\n",
              "    </div>\n",
              "\n",
              "<style>\n",
              "  .colab-df-quickchart {\n",
              "    background-color: #E8F0FE;\n",
              "    border: none;\n",
              "    border-radius: 50%;\n",
              "    cursor: pointer;\n",
              "    display: none;\n",
              "    fill: #1967D2;\n",
              "    height: 32px;\n",
              "    padding: 0 0 0 0;\n",
              "    width: 32px;\n",
              "  }\n",
              "\n",
              "  .colab-df-quickchart:hover {\n",
              "    background-color: #E2EBFA;\n",
              "    box-shadow: 0px 1px 2px rgba(60, 64, 67, 0.3), 0px 1px 3px 1px rgba(60, 64, 67, 0.15);\n",
              "    fill: #174EA6;\n",
              "  }\n",
              "\n",
              "  [theme=dark] .colab-df-quickchart {\n",
              "    background-color: #3B4455;\n",
              "    fill: #D2E3FC;\n",
              "  }\n",
              "\n",
              "  [theme=dark] .colab-df-quickchart:hover {\n",
              "    background-color: #434B5C;\n",
              "    box-shadow: 0px 1px 3px 1px rgba(0, 0, 0, 0.15);\n",
              "    filter: drop-shadow(0px 1px 2px rgba(0, 0, 0, 0.3));\n",
              "    fill: #FFFFFF;\n",
              "  }\n",
              "</style>\n",
              "\n",
              "    <script>\n",
              "      async function quickchart(key) {\n",
              "        const containerElement = document.querySelector('#' + key);\n",
              "        const charts = await google.colab.kernel.invokeFunction(\n",
              "            'suggestCharts', [key], {});\n",
              "      }\n",
              "    </script>\n",
              "\n",
              "      <script>\n",
              "\n",
              "function displayQuickchartButton(domScope) {\n",
              "  let quickchartButtonEl =\n",
              "    domScope.querySelector('#df-a2090500-83bd-4dbf-96ba-8ce8289b19fa button.colab-df-quickchart');\n",
              "  quickchartButtonEl.style.display =\n",
              "    google.colab.kernel.accessAllowed ? 'block' : 'none';\n",
              "}\n",
              "\n",
              "        displayQuickchartButton(document);\n",
              "      </script>\n",
              "      <style>\n",
              "    .colab-df-container {\n",
              "      display:flex;\n",
              "      flex-wrap:wrap;\n",
              "      gap: 12px;\n",
              "    }\n",
              "\n",
              "    .colab-df-convert {\n",
              "      background-color: #E8F0FE;\n",
              "      border: none;\n",
              "      border-radius: 50%;\n",
              "      cursor: pointer;\n",
              "      display: none;\n",
              "      fill: #1967D2;\n",
              "      height: 32px;\n",
              "      padding: 0 0 0 0;\n",
              "      width: 32px;\n",
              "    }\n",
              "\n",
              "    .colab-df-convert:hover {\n",
              "      background-color: #E2EBFA;\n",
              "      box-shadow: 0px 1px 2px rgba(60, 64, 67, 0.3), 0px 1px 3px 1px rgba(60, 64, 67, 0.15);\n",
              "      fill: #174EA6;\n",
              "    }\n",
              "\n",
              "    [theme=dark] .colab-df-convert {\n",
              "      background-color: #3B4455;\n",
              "      fill: #D2E3FC;\n",
              "    }\n",
              "\n",
              "    [theme=dark] .colab-df-convert:hover {\n",
              "      background-color: #434B5C;\n",
              "      box-shadow: 0px 1px 3px 1px rgba(0, 0, 0, 0.15);\n",
              "      filter: drop-shadow(0px 1px 2px rgba(0, 0, 0, 0.3));\n",
              "      fill: #FFFFFF;\n",
              "    }\n",
              "  </style>\n",
              "\n",
              "      <script>\n",
              "        const buttonEl =\n",
              "          document.querySelector('#df-7c44081c-e795-4f7d-b42d-de11ea57f560 button.colab-df-convert');\n",
              "        buttonEl.style.display =\n",
              "          google.colab.kernel.accessAllowed ? 'block' : 'none';\n",
              "\n",
              "        async function convertToInteractive(key) {\n",
              "          const element = document.querySelector('#df-7c44081c-e795-4f7d-b42d-de11ea57f560');\n",
              "          const dataTable =\n",
              "            await google.colab.kernel.invokeFunction('convertToInteractive',\n",
              "                                                     [key], {});\n",
              "          if (!dataTable) return;\n",
              "\n",
              "          const docLinkHtml = 'Like what you see? Visit the ' +\n",
              "            '<a target=\"_blank\" href=https://colab.research.google.com/notebooks/data_table.ipynb>data table notebook</a>'\n",
              "            + ' to learn more about interactive tables.';\n",
              "          element.innerHTML = '';\n",
              "          dataTable['output_type'] = 'display_data';\n",
              "          await google.colab.output.renderOutput(dataTable, element);\n",
              "          const docLink = document.createElement('div');\n",
              "          docLink.innerHTML = docLinkHtml;\n",
              "          element.appendChild(docLink);\n",
              "        }\n",
              "      </script>\n",
              "    </div>\n",
              "  </div>\n"
            ]
          },
          "metadata": {},
          "execution_count": 29
        }
      ]
    },
    {
      "cell_type": "code",
      "source": [
        "history_df.loc[:, ['loss', 'val_loss']].plot()\n",
        "history_df.loc[:, ['mape', 'val_mape']].plot()\n",
        "plt.show()\n"
      ],
      "metadata": {
        "colab": {
          "base_uri": "https://localhost:8080/",
          "height": 843
        },
        "id": "QSXDdSAHg8Tb",
        "outputId": "d095202a-ac6a-41e3-c2fc-dece0c1f9a2e"
      },
      "execution_count": 30,
      "outputs": [
        {
          "output_type": "display_data",
          "data": {
            "text/plain": [
              "<Figure size 640x480 with 1 Axes>"
            ],
            "image/png": "[encoded data removed]"
          },
          "metadata": {}
        },
        {
          "output_type": "display_data",
          "data": {
            "text/plain": [
              "<Figure size 640x480 with 1 Axes>"
            ],
            "image/png": "[encoded data removed]"
          },
          "metadata": {}
        }
      ]
    },
    {
      "cell_type": "markdown",
      "source": [
        "##The training error has gone down smoothly but the case with the validation is somewhat different.\n"
      ],
      "metadata": {
        "id": "WE01Aw1RhWcg"
      }
    }
  ]
}